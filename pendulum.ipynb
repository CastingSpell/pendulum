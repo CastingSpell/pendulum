{
 "cells": [
  {
   "cell_type": "code",
   "execution_count": 1,
   "metadata": {},
   "outputs": [],
   "source": [
    "import gym\n",
    "import numpy as np\n",
    "import matplotlib.pyplot as plt\n",
    "\n",
    "env = gym.make('Pendulum-v0')\n",
    "env._max_episode_steps = 600"
   ]
  },
  {
   "cell_type": "code",
   "execution_count": 2,
   "metadata": {},
   "outputs": [],
   "source": [
    "def muestra_entorno(env):\n",
    "    im = plt.imshow(env.render('rgb_array'))\n",
    "    plt.show()\n",
    "\n",
    "def get_random_state():\n",
    "    angle = np.random.uniform(0,360)\n",
    "    return [np.cos(angle), np.sin(angle), np.random.uniform(-8,8)]\n",
    "\n",
    "# Discretizamos la acción de rango entre -2 y 2 en 40 valores\n",
    "\n",
    "# def discretize_action(action):\n",
    "#     return int(action/0.1)/10\n",
    "\n",
    "def discretize_state(state):\n",
    "    return [int(state[0]/0.1)/10, int(state[1]/0.1)/10, int(state[2]/0.1)/10]"
   ]
  },
  {
   "cell_type": "code",
   "execution_count": 19,
   "metadata": {},
   "outputs": [
    {
     "data": {
      "text/plain": [
       "array([-0.43490051, -0.90047851,  0.99956873])"
      ]
     },
     "execution_count": 19,
     "metadata": {},
     "output_type": "execute_result"
    }
   ],
   "source": [
    "# random state cos, sen y thetadot\n",
    "env.reset()"
   ]
  },
  {
   "cell_type": "code",
   "execution_count": 3,
   "metadata": {},
   "outputs": [
    {
     "data": {
      "image/png": "[encoded data removed]",
      "text/plain": [
       "<Figure size 432x288 with 1 Axes>"
      ]
     },
     "metadata": {
      "needs_background": "light"
     },
     "output_type": "display_data"
    }
   ],
   "source": [
    "env.reset()\n",
    "\n",
    "muestra_entorno(env)\n",
    "\n",
    "env.close()"
   ]
  },
  {
   "cell_type": "code",
   "execution_count": 4,
   "metadata": {},
   "outputs": [
    {
     "data": {
      "text/plain": [
       "array([1.21950053, 1.47863665])"
      ]
     },
     "execution_count": 4,
     "metadata": {},
     "output_type": "execute_result"
    }
   ],
   "source": [
    "env.step([0.1, 0.1, -3.4])\n",
    "\n",
    "env.state"
   ]
  },
  {
   "cell_type": "code",
   "execution_count": 5,
   "metadata": {},
   "outputs": [
    {
     "name": "stdout",
     "output_type": "stream",
     "text": [
      "Acción tomada: [1.8441327] \n",
      " Estado: [0.22634454 0.9740473  2.45945225] \n",
      " Reward: -1.7092190078629195 \n",
      " Hecho?: False\n"
     ]
    }
   ],
   "source": [
    "sample = env.action_space.sample()\n",
    "observation, reward, done, info = env.step(sample)\n",
    "print(f\"Acción tomada: {sample} \\n Estado: {observation} \\n Reward: {reward} \\n Hecho?: {done}\")"
   ]
  },
  {
   "cell_type": "code",
   "execution_count": 6,
   "metadata": {},
   "outputs": [],
   "source": [
    "for i_episode in range(20):\n",
    "    observation = env.reset()\n",
    "    for t in range(10):\n",
    "        env.render()\n",
    "        # print(observation)\n",
    "        action = env.action_space.sample()\n",
    "        observation, reward, done, info = env.step(action)\n",
    "        if done:\n",
    "            print(\"Episode finished after {} timesteps\".format(t+1))\n",
    "            break\n",
    "env.close()"
   ]
  },
  {
   "cell_type": "code",
   "execution_count": 7,
   "metadata": {},
   "outputs": [
    {
     "name": "stdout",
     "output_type": "stream",
     "text": [
      "[1. 1. 8.] [-1. -1. -8.]\n"
     ]
    }
   ],
   "source": [
    "# cos(theta), sin(angle), velocity\n",
    "print(env.observation_space.high, env.observation_space.low)\n",
    "\n",
    "env.close()"
   ]
  },
  {
   "cell_type": "code",
   "execution_count": 8,
   "metadata": {},
   "outputs": [
    {
     "name": "stdout",
     "output_type": "stream",
     "text": [
      "Seno del ángulo: -0.175558 \t Ángulo en radianes: 1.747269\n"
     ]
    }
   ],
   "source": [
    "env.render()\n",
    "next_state, reward, done, info = env.step([-2])\n",
    "env.render()\n",
    "\n",
    "angle = next_state[0]\n",
    "vel = next_state[2]\n",
    "\n",
    "print(f\"Seno del ángulo: {round(angle,6)} \\t Ángulo en radianes: {round(np.arccos(angle), 6)}\")"
   ]
  },
  {
   "cell_type": "code",
   "execution_count": 19,
   "metadata": {},
   "outputs": [
    {
     "data": {
      "text/plain": [
       "[0, 82]"
      ]
     },
     "execution_count": 19,
     "metadata": {},
     "output_type": "execute_result"
    }
   ],
   "source": [
    "def get_estado(env, action):\n",
    "    next_state, _, _, _ = env.step([action])\n",
    "    return next_state[0], next_state[2]\n",
    "\n",
    "def discretize_state(state):\n",
    "    angle_bins = np.linspace(-1, 1, 40)\n",
    "    vel_bins = np.linspace(-8, 8, 160)\n",
    "\n",
    "    return [np.digitize([state[0]], angle_bins)[0]-1, np.digitize([state[1]], vel_bins)[0]-1]\n",
    "\n",
    "\n",
    "discretize_state([-0.9561006691994655, 0.263761426149805, -0.09901058240783572])"
   ]
  },
  {
   "cell_type": "code",
   "execution_count": 21,
   "metadata": {},
   "outputs": [
    {
     "name": "stdout",
     "output_type": "stream",
     "text": [
      "Terminado episodio 0 con retorno -3337.547775013633 en 600 pasos\n",
      "Terminado episodio 1 con retorno -4030.7380080050025 en 600 pasos\n",
      "Terminado episodio 2 con retorno -4429.990815866715 en 600 pasos\n",
      "Terminado episodio 3 con retorno -4862.637887297102 en 600 pasos\n",
      "Terminado episodio 4 con retorno -3171.2838490902304 en 600 pasos\n"
     ]
    }
   ],
   "source": [
    "env.reset()\n",
    "env.seed(123)\n",
    "env._max_episode_steps = 600\n",
    "\n",
    "def get_epsilon_greedy_action(q_values, epsilon):\n",
    "    if np.random.random() < epsilon:\n",
    "        return np.random.randint(10)\n",
    "    else:\n",
    "        return np.argmax(q_values)\n",
    "\n",
    "\n",
    "def sarsa(num_episodes = 20, ALPHA = 0.1, GAMMA = 1, EPSILON = 0.25):\n",
    "    acciones = np.linspace(-2,2,10)\n",
    "    q_values = np.zeros((40, 160, 10))\n",
    "          \n",
    "    for i in range(num_episodes):\n",
    "        s = discretize_state(env.reset())\n",
    "        a = get_epsilon_greedy_action(q_values[s[0],s[1]], EPSILON)\n",
    "        returns, num_steps, done = 0, 0, False\n",
    "\n",
    "        while not done:\n",
    "            env.render()\n",
    "            next_state, reward, done, _ = env.step([acciones[a]])\n",
    "            # print(get_estado(env, acciones[a]))\n",
    "            # next_state = discretize_state(get_estado(env, acciones[a]))\n",
    "            # next_state = discretize_state(env.state)\n",
    "            next_state = discretize_state(next_state)\n",
    "            a_prime = get_epsilon_greedy_action(q_values[next_state[0],next_state[1]], EPSILON)\n",
    "            q_values[s[0], s[1], a] = q_values[s[0], s[1], a] + ALPHA * (reward + GAMMA * q_values[next_state[0], next_state[1], a_prime] - q_values[s[0], s[1], a])\n",
    "            # print(q_values)\n",
    "            s, a = next_state,  a_prime\n",
    "            num_steps += 1\n",
    "            returns += reward\n",
    "\n",
    "        print(f'Terminado episodio {i} con retorno {returns} en {num_steps} pasos')\n",
    "    env.close()\n",
    "    # return q_values\n",
    "            \n",
    "sarsa()"
   ]
  },
  {
   "cell_type": "code",
   "execution_count": 18,
   "metadata": {},
   "outputs": [],
   "source": [
    "env.close()"
   ]
  },
  {
   "cell_type": "code",
   "execution_count": 14,
   "metadata": {},
   "outputs": [
    {
     "ename": "NameError",
     "evalue": "name 'get_estado' is not defined",
     "output_type": "error",
     "traceback": [
      "\u001b[1;31m---------------------------------------------------------------------------\u001b[0m",
      "\u001b[1;31mNameError\u001b[0m                                 Traceback (most recent call last)",
      "\u001b[1;32m<ipython-input-14-532bcb57aa24>\u001b[0m in \u001b[0;36m<module>\u001b[1;34m\u001b[0m\n\u001b[0;32m      1\u001b[0m \u001b[0macciones\u001b[0m \u001b[1;33m=\u001b[0m \u001b[0mnp\u001b[0m\u001b[1;33m.\u001b[0m\u001b[0mlinspace\u001b[0m\u001b[1;33m(\u001b[0m\u001b[1;33m-\u001b[0m\u001b[1;36m2\u001b[0m\u001b[1;33m,\u001b[0m\u001b[1;36m2\u001b[0m\u001b[1;33m,\u001b[0m\u001b[1;36m30\u001b[0m\u001b[1;33m)\u001b[0m\u001b[1;33m\u001b[0m\u001b[1;33m\u001b[0m\u001b[0m\n\u001b[0;32m      2\u001b[0m \u001b[1;33m\u001b[0m\u001b[0m\n\u001b[1;32m----> 3\u001b[1;33m \u001b[0mdiscretize_state\u001b[0m\u001b[1;33m(\u001b[0m\u001b[0mget_estado\u001b[0m\u001b[1;33m(\u001b[0m\u001b[0menv\u001b[0m\u001b[1;33m,\u001b[0m \u001b[0macciones\u001b[0m\u001b[1;33m[\u001b[0m\u001b[1;36m29\u001b[0m\u001b[1;33m]\u001b[0m\u001b[1;33m)\u001b[0m\u001b[1;33m)\u001b[0m\u001b[1;33m\u001b[0m\u001b[1;33m\u001b[0m\u001b[0m\n\u001b[0m",
      "\u001b[1;31mNameError\u001b[0m: name 'get_estado' is not defined"
     ]
    }
   ],
   "source": [
    "acciones = np.linspace(-2,2,30)\n",
    "\n",
    "discretize_state(get_estado(env, acciones[29]))"
   ]
  }
 ],
 "metadata": {
  "interpreter": {
   "hash": "a8bc38a7c42f1f234c01fd41bbcfb8e8f82a0f3c1371af7d410d85c730514515"
  },
  "kernelspec": {
   "display_name": "Python 3.9.5 64-bit",
   "language": "python",
   "name": "python3"
  },
  "language_info": {
   "codemirror_mode": {
    "name": "ipython",
    "version": 3
   },
   "file_extension": ".py",
   "mimetype": "text/x-python",
   "name": "python",
   "nbconvert_exporter": "python",
   "pygments_lexer": "ipython3",
   "version": "3.9.5"
  },
  "orig_nbformat": 4
 },
 "nbformat": 4,
 "nbformat_minor": 2
}
